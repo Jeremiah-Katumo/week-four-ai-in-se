{
 "cells": [
  {
   "cell_type": "markdown",
   "id": "6137db64",
   "metadata": {},
   "source": [
    "## Copilot Code"
   ]
  },
  {
   "cell_type": "code",
   "execution_count": 1,
   "id": "8506327b",
   "metadata": {},
   "outputs": [
    {
     "name": "stdout",
     "output_type": "stream",
     "text": [
      "[{'name': 'Bob', 'age': 25}, {'name': 'Alice', 'age': 30}, {'name': 'Charlie', 'age': 35}]\n"
     ]
    }
   ],
   "source": [
    "def sort_list_of_dictionaries(data_list: list, key: str) -> list:\n",
    "    \"\"\"\n",
    "    Sorts a list of dictionaries by a specified key.\n",
    "\n",
    "    Args:\n",
    "        data_list: A list of dictionaries.\n",
    "        key: The string key to sort the dictionaries by.\n",
    "\n",
    "    Returns:\n",
    "        A new list of dictionaries, sorted by the specified key.\n",
    "    \"\"\"\n",
    "    return sorted(data_list, key=lambda x: x[key])\n",
    "\n",
    "# Example usage:\n",
    "if __name__ == \"__main__\":\n",
    "    sample_data = [\n",
    "        {\"name\": \"Alice\", \"age\": 30},\n",
    "        {\"name\": \"Bob\", \"age\": 25},\n",
    "        {\"name\": \"Charlie\", \"age\": 35}\n",
    "    ]\n",
    "    sorted_data = sort_list_of_dictionaries(sample_data, \"age\")\n",
    "    print(sorted_data)\n",
    "# Output: [{'name': 'Bob', 'age': 25}, {'name': 'Alice', 'age': 30}, {'name': 'Charlie', 'age': 35}]\n",
    "# This code defines a function to sort a list of dictionaries by a specified key.\n",
    "# It uses a lambda function to extract the value associated with the key for sorting.\n",
    "# The example usage demonstrates how to use the function with a sample list of dictionaries.\n",
    "# The sorted function is used to return a new list that is sorted based on the specified key\n",
    "# without modifying the original list.\n",
    "# The function is generic and can handle any list of dictionaries as long as the specified key exists."
   ]
  },
  {
   "cell_type": "markdown",
   "id": "b0dbe14a",
   "metadata": {},
   "source": [
    "## Manual Code"
   ]
  },
  {
   "cell_type": "code",
   "execution_count": 2,
   "id": "1303dcef",
   "metadata": {},
   "outputs": [
    {
     "name": "stdout",
     "output_type": "stream",
     "text": [
      "[{'name': 'Cate', 'age': 22}, {'name': 'Naomi', 'age': 29}, {'name': 'Zuri', 'age': 31}]\n"
     ]
    }
   ],
   "source": [
    "def sort_dicts_in_place(data_list, key):\n",
    "    \"\"\"\n",
    "    Sorts a list of dictionaries in place by a specified key.\n",
    "\n",
    "    Args:\n",
    "        data_list: A list of dictionaries.\n",
    "        key: The key to sort the dictionaries by.\n",
    "\n",
    "    Returns:\n",
    "        None. The list is sorted in place.\n",
    "    \"\"\"\n",
    "    try:\n",
    "        data_list.sort(key=lambda x: x[key])\n",
    "    except KeyError:\n",
    "        print(f\"Key '{key}' not found in one or more dictionaries.\")\n",
    "    except TypeError:\n",
    "        print(\"Invalid input. Please pass a list of dictionaries.\")\n",
    "        \n",
    "sample_data = [\n",
    "    {\"name\": \"Naomi\", \"age\": 29},\n",
    "    {\"name\": \"Cate\", \"age\": 22},\n",
    "    {\"name\": \"Zuri\", \"age\": 31}\n",
    "]\n",
    "\n",
    "sort_dicts_in_place(sample_data, \"age\")\n",
    "print(sample_data)"
   ]
  },
  {
   "cell_type": "code",
   "execution_count": null,
   "id": "5c49a062",
   "metadata": {},
   "outputs": [],
   "source": []
  }
 ],
 "metadata": {
  "kernelspec": {
   "display_name": "venv",
   "language": "python",
   "name": "python3"
  },
  "language_info": {
   "codemirror_mode": {
    "name": "ipython",
    "version": 3
   },
   "file_extension": ".py",
   "mimetype": "text/x-python",
   "name": "python",
   "nbconvert_exporter": "python",
   "pygments_lexer": "ipython3",
   "version": "3.12.3"
  }
 },
 "nbformat": 4,
 "nbformat_minor": 5
}
